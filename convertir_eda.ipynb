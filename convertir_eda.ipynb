{
 "cells": [
  {
   "cell_type": "markdown",
   "metadata": {},
   "source": [
    "#  Creacion de dos csv para el machine learning y EDA"
   ]
  },
  {
   "cell_type": "code",
   "execution_count": 6,
   "metadata": {},
   "outputs": [],
   "source": [
    "import pandas as pd\n",
    "\n",
    "# Cargar el CSV original y seleccionar las columnas necesarias\n",
    "columnas_keeps = [\"price\",'id', 'title','Action', 'Adventure', 'Animation and Modeling', 'Audio Production', 'Casual', 'Design and Illustration', \n",
    "                   'Early Access', 'Education', 'Free to Play', 'Indie', 'Massively Multiplayer', 'Photo Editing', 'RPG', \n",
    "                   'Racing', 'Simulation', 'Software Training', 'Sports', 'Strategy', 'Utilities', 'Video Production', \n",
    "                   'Web Publishing', 'recommend', 'sentiment_analysis',]\n",
    "df = pd.read_csv(r\"C://Users//HP6470b//Desktop//Fastapi//venv//datos_finales2.csv\")[columns_to_keep]\n",
    "\n",
    "# Eliminar duplicados basados en la columna 'title'\n",
    "df_sin_duplicados = df.drop_duplicates(subset='title', keep='first')\n",
    "\n",
    "# Guardar el nuevo CSV\n",
    "df_sin_duplicados.to_csv('ml1.csv', index=False)\n"
   ]
  }
 ],
 "metadata": {
  "kernelspec": {
   "display_name": "venv",
   "language": "python",
   "name": "python3"
  },
  "language_info": {
   "codemirror_mode": {
    "name": "ipython",
    "version": 3
   },
   "file_extension": ".py",
   "mimetype": "text/x-python",
   "name": "python",
   "nbconvert_exporter": "python",
   "pygments_lexer": "ipython3",
   "version": "3.12.1"
  }
 },
 "nbformat": 4,
 "nbformat_minor": 2
}
