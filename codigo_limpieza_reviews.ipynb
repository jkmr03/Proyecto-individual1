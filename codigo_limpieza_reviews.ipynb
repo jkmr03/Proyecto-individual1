{
 "cells": [
  {
   "cell_type": "code",
   "execution_count": null,
   "metadata": {},
   "outputs": [],
   "source": [
    "import pandas as pd"
   ]
  },
  {
   "cell_type": "code",
   "execution_count": null,
   "metadata": {},
   "outputs": [],
   "source": [
    "df_limpio0 = pd.read_csv(\"reviews_organizado.csv\" , encoding='unicode_escape')"
   ]
  },
  {
   "cell_type": "code",
   "execution_count": null,
   "metadata": {},
   "outputs": [],
   "source": [
    "df_limpio0.head(7)"
   ]
  },
  {
   "cell_type": "code",
   "execution_count": null,
   "metadata": {},
   "outputs": [],
   "source": [
    "df_limpio0=df_limpio0.drop('funny', axis=1)"
   ]
  },
  {
   "cell_type": "code",
   "execution_count": null,
   "metadata": {},
   "outputs": [],
   "source": [
    "\n",
    "# Suponiendo que tu dataframe se llama df y la columna se llama 'columna'\n",
    "df_limpio0[\"posted\"] = df_limpio0[\"posted\"].str.replace('Posted', '')\n",
    "df_limpio0[\"posted\"] = df_limpio0[\"posted\"].str.replace('posted', '')\n",
    "\n",
    "\n",
    "# Convertir la columna a formato numérico de fecha\n",
    "# df['columna'] = pd.to_datetime(df['columna'], format='%d-%m-%Y').dt.strftime('%Y%m%d')"
   ]
  },
  {
   "cell_type": "code",
   "execution_count": null,
   "metadata": {},
   "outputs": [],
   "source": [
    "\n",
    "# Suponiendo que tu dataframe se llama df_limpio0 y la columna en cuestión es \"posted\"\n",
    "df_limpio0['posted'] = pd.to_datetime(df_limpio0['posted']).dt.year\n",
    "\n",
    "# Asignar valor predeterminado al año en las filas que no tienen un valor válido\n",
    "#df_limpio0['posted'] = df_limpio0['posted'].fillna(2023)\n",
    "\n",
    "# Ahora la columna \"posted\" contiene el año de cada fecha o el valor predeterminado en las filas inválidas"
   ]
  },
  {
   "cell_type": "code",
   "execution_count": null,
   "metadata": {},
   "outputs": [],
   "source": [
    "import datetime as dt\n",
    "\n",
    "def es_fecha_valida(valor):\n",
    "    try:\n",
    "        dt.datetime.strptime(valor, '%Y-%m-%d %H:%M:%S')\n",
    "        return True\n",
    "    except ValueError:\n",
    "        return False\n",
    "\n",
    "df_limpio0 = df_limpio0[df_limpio0['posted'].apply(es_fecha_valida)]"
   ]
  },
  {
   "cell_type": "code",
   "execution_count": null,
   "metadata": {},
   "outputs": [],
   "source": [
    "print(df_limpio0.dtypes)"
   ]
  },
  {
   "cell_type": "code",
   "execution_count": null,
   "metadata": {},
   "outputs": [],
   "source": [
    "df0 = df_limpio0 "
   ]
  },
  {
   "cell_type": "code",
   "execution_count": null,
   "metadata": {},
   "outputs": [],
   "source": [
    "import pandas as pd\n",
    "\n",
    "# Supongamos que tienes un DataFrame llamado 'df' con la columna 'posted'\n",
    "# Puedes cargar tus datos desde un archivo CSV u otra fuente de datos\n",
    "\n",
    "\n",
    "\n",
    "# Convierte la columna 'posted' a tipo datetime para facilitar la manipulación\n",
    "df0['posted'] = pd.to_datetime(df0['posted'], errors='coerce')\n",
    "\n",
    "# Filtra las filas que no tienen año y las elimina\n",
    "df0 = df0.dropna(subset=['posted'])\n",
    "\n",
    "# Extrae el año de la columna 'posted'\n",
    "df0['year'] = df0['posted'].dt.year\n",
    "\n",
    "# Imprime el DataFrame resultante\n",
    "print(\"\\nDataFrame con columna de año:\")\n",
    "print(df0)\n"
   ]
  },
  {
   "cell_type": "code",
   "execution_count": null,
   "metadata": {},
   "outputs": [],
   "source": [
    "df_limpio0.head(7)"
   ]
  },
  {
   "cell_type": "code",
   "execution_count": null,
   "metadata": {},
   "outputs": [],
   "source": [
    "df0 = df0.rename(columns={'year': 'año'})"
   ]
  },
  {
   "cell_type": "code",
   "execution_count": null,
   "metadata": {},
   "outputs": [],
   "source": [
    "df_limpio0 = df_limpio0.rename(columns={'año': 'year'})"
   ]
  },
  {
   "cell_type": "code",
   "execution_count": null,
   "metadata": {},
   "outputs": [],
   "source": [
    "df_limpio0.to_csv(\"reviews_organizado.csv\", index=False)"
   ]
  }
 ],
 "metadata": {
  "kernelspec": {
   "display_name": "Python 3",
   "language": "python",
   "name": "python3"
  },
  "language_info": {
   "codemirror_mode": {
    "name": "ipython",
    "version": 3
   },
   "file_extension": ".py",
   "mimetype": "text/x-python",
   "name": "python",
   "nbconvert_exporter": "python",
   "pygments_lexer": "ipython3",
   "version": "3.12.1"
  }
 },
 "nbformat": 4,
 "nbformat_minor": 2
}
